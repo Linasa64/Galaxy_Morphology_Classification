{
 "cells": [
  {
   "cell_type": "markdown",
   "metadata": {},
   "source": [
    "# Add new labels to header for stage classification"
   ]
  },
  {
   "cell_type": "code",
   "execution_count": 1,
   "metadata": {},
   "outputs": [],
   "source": [
    "from astropy.io import fits\n",
    "import os"
   ]
  },
  {
   "cell_type": "code",
   "execution_count": 2,
   "metadata": {},
   "outputs": [],
   "source": [
    "dataset_dir = \"../processed_dataset\""
   ]
  },
  {
   "cell_type": "markdown",
   "metadata": {},
   "source": [
    "## New mappings"
   ]
  },
  {
   "cell_type": "code",
   "execution_count": 3,
   "metadata": {},
   "outputs": [],
   "source": [
    "category_mapping_1 = {\n",
    "    \"Elliptical/Lenticular\": [\"E\", \"E-S0\", \"E-SO\", \"S0\", \"S0-a\"],\n",
    "    \"Spirals/Irregular\": [\n",
    "        \"Sa\", \"Sab\", \"Sb\", \"SABa\", \"SABb\",\n",
    "        \"Sbc\", \"SABc\", \"SBa\", \"SBb\", \"SBd\", \"SBbc\",\n",
    "        \"Sc\", \"Scd\", \"Sd\", \"SBc\", \"SBcd\", \"SABd\",\n",
    "        \"I\", \"IB\", \"IAB\", \"Sm\", \"SBm\", \"SABm\", \"SBab\"\n",
    "    ]\n",
    "}\n",
    "\n",
    "category_mapping_2 = {\n",
    "    \"Elliptical\": [\"E\", \"E-S0\", \"E-SO\"],\n",
    "    \"Lenticular\": [\"S0\", \"S0-a\"],\n",
    "    \"Barred Spirals\": [\"SBa\", \"SBab\", \"SBb\", \"SBc\", \"SBcd\", \"SBd\", \"SBbc\", \"SBm\"],\n",
    "    \"Spirals/Irregulars\": [\n",
    "        \"Sa\", \"Sab\", \"Sb\", \"SABa\", \"SABb\",\n",
    "        \"Sbc\", \"SABc\",\n",
    "        \"Sc\", \"Scd\", \"Sd\",\n",
    "        \"I\", \"IB\", \"IAB\", \"Sm\", \"SABm\", \"SABd\"\n",
    "    ]\n",
    "}\n",
    "\n",
    "category_mapping_3 = {\n",
    "    \"Elliptical\": [\"E\", \"E-S0\", \"E-SO\"],\n",
    "    \"Lenticular\": [\"S0\", \"S0-a\"],\n",
    "    \"Early Barred Spirals\": [\"SBa\", \"SBab\", \"SBb\"],\n",
    "    \"Late Barred Spirals\": [\"SBc\", \"SBcd\", \"SBd\"],\n",
    "    \"Spirals\": [\"Sa\", \"Sab\", \"Sb\", \"Sc\", \"Sd\", \"Scd\"],\n",
    "    \"Intermediate Spirals\": [\"SABa\", \"SABb\", \"Sbc\", \"SABc\", \"SBbc\", \"SABd\"],\n",
    "    \"Irregulars\": [\"I\", \"IB\", \"IAB\", \"Sm\", \"SBm\", \"SABm\"]\n",
    "}"
   ]
  },
  {
   "cell_type": "code",
   "execution_count": 4,
   "metadata": {},
   "outputs": [],
   "source": [
    "def get_category(g_type, mapping, mapping_name):\n",
    "    for category, types in mapping.items():\n",
    "        if g_type in types:\n",
    "            return category\n",
    "    print(f\"Unknown type: {g_type}, mapping: {mapping_name}\")"
   ]
  },
  {
   "cell_type": "code",
   "execution_count": 5,
   "metadata": {},
   "outputs": [
    {
     "name": "stdout",
     "output_type": "stream",
     "text": [
      "Catégories ajoutées à tous les fichiers FITS.\n"
     ]
    }
   ],
   "source": [
    "fits_files = [f for f in os.listdir(dataset_dir) if f.endswith(\".fits\")]\n",
    "\n",
    "for fits_file in fits_files:\n",
    "    file_path = os.path.join(dataset_dir, fits_file)\n",
    "    with fits.open(file_path, mode=\"update\") as hdul:\n",
    "        header = hdul[0].header\n",
    "        g_type = header.get(\"G_TYPE\", \"Unknown\")\n",
    "        \n",
    "        header[\"CAT1\"] = get_category(g_type, category_mapping_1, \"Mapping 1\")\n",
    "        header[\"CAT2\"] = get_category(g_type, category_mapping_2, \"Mapping 2\")\n",
    "        header[\"CAT3\"] = get_category(g_type, category_mapping_3, \"Mapping 3\")\n",
    "\n",
    "\n",
    "        # Sauvegarde des modifications\n",
    "        hdul.flush()\n",
    "\n",
    "print(\"Catégories ajoutées à tous les fichiers FITS.\")"
   ]
  },
  {
   "cell_type": "code",
   "execution_count": 7,
   "metadata": {},
   "outputs": [
    {
     "data": {
      "text/plain": [
       "SIMPLE  =                    T / conforms to FITS standard                      \n",
       "BITPIX  =                    8 / array data type                                \n",
       "NAXIS   =                    3 / number of array dimensions                     \n",
       "NAXIS1  =                  171                                                  \n",
       "NAXIS2  =                  171                                                  \n",
       "NAXIS3  =                    3                                                  \n",
       "G_NAME  = 'PGC0000963'                                                          \n",
       "G_TYPE  = 'SABc    '                                                            \n",
       "G_CAT   = 'Intermediate Spirals'                                                \n",
       "FILTER_0= 'i       '                                                            \n",
       "FILTER_1= 'r       '                                                            \n",
       "FILTER_2= 'u       '                                                            \n",
       "G_TYPE_8= 'Spiral Intermediate'                                                 \n",
       "CAT1    = 'Spirals/Irregular'                                                   \n",
       "CAT2    = 'Spirals/Irregulars'                                                  \n",
       "CAT3    = 'Intermediate Spirals'                                                "
      ]
     },
     "execution_count": 7,
     "metadata": {},
     "output_type": "execute_result"
    }
   ],
   "source": [
    "first_fits_file = os.path.join(dataset_dir, fits_files[1])\n",
    "\n",
    "data = fits.open(first_fits_file)\n",
    "data[0].header"
   ]
  },
  {
   "cell_type": "code",
   "execution_count": 8,
   "metadata": {},
   "outputs": [
    {
     "name": "stdout",
     "output_type": "stream",
     "text": [
      "Spirals/Irregulars\n",
      "Spirals/Irregulars\n",
      "Spirals/Irregulars\n",
      "Barred Spirals\n",
      "Barred Spirals\n",
      "Spirals/Irregulars\n",
      "Spirals/Irregulars\n",
      "Lenticular\n",
      "Lenticular\n",
      "Spirals/Irregulars\n",
      "Spirals/Irregulars\n",
      "Spirals/Irregulars\n",
      "Spirals/Irregulars\n",
      "Barred Spirals\n",
      "Spirals/Irregulars\n",
      "Spirals/Irregulars\n",
      "Barred Spirals\n",
      "Barred Spirals\n",
      "Barred Spirals\n",
      "Barred Spirals\n",
      "Spirals/Irregulars\n",
      "Barred Spirals\n",
      "Barred Spirals\n",
      "Barred Spirals\n",
      "Lenticular\n",
      "Elliptical\n",
      "Barred Spirals\n",
      "Barred Spirals\n",
      "Spirals/Irregulars\n",
      "Lenticular\n",
      "Spirals/Irregulars\n",
      "Lenticular\n",
      "Barred Spirals\n",
      "Lenticular\n",
      "Lenticular\n",
      "Spirals/Irregulars\n",
      "Barred Spirals\n",
      "Spirals/Irregulars\n",
      "Lenticular\n",
      "Lenticular\n",
      "Elliptical\n",
      "Lenticular\n",
      "Spirals/Irregulars\n",
      "Spirals/Irregulars\n",
      "Barred Spirals\n",
      "Spirals/Irregulars\n",
      "Barred Spirals\n",
      "Spirals/Irregulars\n",
      "Spirals/Irregulars\n",
      "Spirals/Irregulars\n",
      "Barred Spirals\n",
      "Spirals/Irregulars\n",
      "Elliptical\n",
      "Spirals/Irregulars\n",
      "Lenticular\n",
      "Spirals/Irregulars\n",
      "Elliptical\n",
      "Barred Spirals\n",
      "Spirals/Irregulars\n",
      "Spirals/Irregulars\n",
      "Spirals/Irregulars\n",
      "Spirals/Irregulars\n",
      "Spirals/Irregulars\n",
      "Elliptical\n",
      "Elliptical\n",
      "Lenticular\n",
      "Spirals/Irregulars\n",
      "Spirals/Irregulars\n",
      "Elliptical\n",
      "Spirals/Irregulars\n",
      "Barred Spirals\n",
      "Elliptical\n",
      "Spirals/Irregulars\n",
      "Lenticular\n",
      "Elliptical\n",
      "Spirals/Irregulars\n",
      "Spirals/Irregulars\n",
      "Lenticular\n",
      "Spirals/Irregulars\n",
      "Elliptical\n",
      "Spirals/Irregulars\n",
      "Spirals/Irregulars\n",
      "Barred Spirals\n",
      "Barred Spirals\n",
      "Spirals/Irregulars\n",
      "Lenticular\n",
      "Spirals/Irregulars\n",
      "Spirals/Irregulars\n",
      "Barred Spirals\n",
      "Elliptical\n",
      "Spirals/Irregulars\n",
      "Spirals/Irregulars\n",
      "Barred Spirals\n",
      "Lenticular\n",
      "Spirals/Irregulars\n",
      "Spirals/Irregulars\n",
      "Spirals/Irregulars\n",
      "Lenticular\n",
      "Spirals/Irregulars\n",
      "Elliptical\n"
     ]
    }
   ],
   "source": [
    "for fits_file in fits_files[:100]:\n",
    "    file_path = os.path.join(dataset_dir, fits_file)\n",
    "    with fits.open(file_path) as hdul:\n",
    "        header = hdul[0].header\n",
    "        print(header.get(\"CAT2\", \"Unknown\"))"
   ]
  },
  {
   "cell_type": "code",
   "execution_count": 9,
   "metadata": {},
   "outputs": [
    {
     "name": "stdout",
     "output_type": "stream",
     "text": [
      "La taille de l'image est: (3, 171, 171)\n"
     ]
    }
   ],
   "source": [
    "# Ouvrir le fichier FITS\n",
    "with fits.open(first_fits_file) as hdul:\n",
    "    # Accéder aux dimensions de l'image\n",
    "    image_shape = hdul[0].data.shape\n",
    "    print(f\"La taille de l'image est: {image_shape}\")"
   ]
  },
  {
   "cell_type": "code",
   "execution_count": null,
   "metadata": {},
   "outputs": [],
   "source": []
  }
 ],
 "metadata": {
  "kernelspec": {
   "display_name": ".venv",
   "language": "python",
   "name": "python3"
  },
  "language_info": {
   "codemirror_mode": {
    "name": "ipython",
    "version": 3
   },
   "file_extension": ".py",
   "mimetype": "text/x-python",
   "name": "python",
   "nbconvert_exporter": "python",
   "pygments_lexer": "ipython3",
   "version": "3.11.4"
  }
 },
 "nbformat": 4,
 "nbformat_minor": 2
}

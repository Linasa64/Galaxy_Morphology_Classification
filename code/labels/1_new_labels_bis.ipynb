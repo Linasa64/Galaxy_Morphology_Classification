{
 "cells": [
  {
   "cell_type": "markdown",
   "metadata": {},
   "source": [
    "# Add new labels to header for stage classification"
   ]
  },
  {
   "cell_type": "code",
   "execution_count": 1,
   "metadata": {},
   "outputs": [],
   "source": [
    "from astropy.io import fits\n",
    "import os"
   ]
  },
  {
   "cell_type": "code",
   "execution_count": 2,
   "metadata": {},
   "outputs": [],
   "source": [
    "dataset_dir = \"../processed_dataset\""
   ]
  },
  {
   "cell_type": "markdown",
   "metadata": {},
   "source": [
    "## New mappings"
   ]
  },
  {
   "cell_type": "code",
   "execution_count": 3,
   "metadata": {},
   "outputs": [],
   "source": [
    "category_mapping_1 = {\n",
    "    \"Elliptical/Lenticular\": [\"E\", \"E-S0\", \"E-SO\", \"S0\", \"S0-a\"],\n",
    "    \"Spirals/Irregular\": [\n",
    "        \"Sa\", \"Sab\", \"Sb\", \"SABa\", \"SABb\",\n",
    "        \"Sbc\", \"SABc\", \"SBa\", \"SBb\", \"SBd\", \"SBbc\",\n",
    "        \"Sc\", \"Scd\", \"Sd\", \"SBc\", \"SBcd\", \"SABd\",\n",
    "        \"I\", \"IB\", \"IAB\", \"Sm\", \"SBm\", \"SABm\", \"SBab\"\n",
    "    ]\n",
    "}\n",
    "\n",
    "category_mapping_2 = {\n",
    "    \"Elliptical\": [\"E\", \"E-S0\", \"E-SO\"],\n",
    "    \"Lenticular\": [\"S0\", \"S0-a\"],\n",
    "    \"Irregulars\": [\"I\", \"IB\", \"IAB\"],\n",
    "    \"Spirals/Barred Spirals\": [\n",
    "        \"Sa\", \"Sab\", \"Sb\", \"Sbc\", \"Sc\", \"Sd\", \"Scd\", \"Sm\",\n",
    "        \"SABa\", \"SABb\", \"SABc\", \"SABd\", \"SABm\",\n",
    "        \"SBa\", \"SBab\", \"SBb\", \"SBbc\",\n",
    "        \"SBc\", \"SBcd\", \"SBd\" , \"SBm\"\n",
    "    ]\n",
    "}\n",
    "\n",
    "category_mapping_3 = {\n",
    "    \"Elliptical\": [\"E\", \"E-S0\", \"E-SO\"],\n",
    "    \"Lenticular\": [\"S0\", \"S0-a\"],\n",
    "    \"Barred Spirals\": [\"SBa\", \"SBab\", \"SBb\", \"SBbc\", \"SBc\", \"SBcd\", \"SBd\" , \"SBm\"],\n",
    "    \"Spirals\": [\"Sa\", \"Sab\", \"Sb\", \"Sbc\", \"Sc\", \"Sd\", \"Scd\", \"Sm\", \"SABa\", \"SABb\", \"SABc\", \"SABd\", \"SABm\"],\n",
    "    \"Irregulars\": [\"I\", \"IB\", \"IAB\"]\n",
    "}"
   ]
  },
  {
   "cell_type": "code",
   "execution_count": 4,
   "metadata": {},
   "outputs": [],
   "source": [
    "def get_category(g_type, mapping, mapping_name):\n",
    "    for category, types in mapping.items():\n",
    "        if g_type in types:\n",
    "            return category\n",
    "    print(f\"Unknown type: {g_type}, mapping: {mapping_name}\")"
   ]
  },
  {
   "cell_type": "code",
   "execution_count": 5,
   "metadata": {},
   "outputs": [
    {
     "name": "stdout",
     "output_type": "stream",
     "text": [
      "Catégories ajoutées à tous les fichiers FITS.\n"
     ]
    }
   ],
   "source": [
    "fits_files = [f for f in os.listdir(dataset_dir) if f.endswith(\".fits\")]\n",
    "\n",
    "for fits_file in fits_files:\n",
    "    file_path = os.path.join(dataset_dir, fits_file)\n",
    "    with fits.open(file_path, mode=\"update\") as hdul:\n",
    "        header = hdul[0].header\n",
    "        g_type = header.get(\"G_TYPE\", \"Unknown\")\n",
    "        \n",
    "        header[\"CAT1bis\"] = get_category(g_type, category_mapping_1, \"Mapping 1\")\n",
    "        header[\"CAT2bis\"] = get_category(g_type, category_mapping_2, \"Mapping 2\")\n",
    "        header[\"CAT3bis\"] = get_category(g_type, category_mapping_3, \"Mapping 3\")\n",
    "\n",
    "\n",
    "        # Sauvegarde des modifications\n",
    "        hdul.flush()\n",
    "\n",
    "print(\"Catégories ajoutées à tous les fichiers FITS.\")"
   ]
  },
  {
   "cell_type": "code",
   "execution_count": 6,
   "metadata": {},
   "outputs": [
    {
     "data": {
      "text/plain": [
       "SIMPLE  =                    T / conforms to FITS standard                      \n",
       "BITPIX  =                    8 / array data type                                \n",
       "NAXIS   =                    3 / number of array dimensions                     \n",
       "NAXIS1  =                  171                                                  \n",
       "NAXIS2  =                  171                                                  \n",
       "NAXIS3  =                    3                                                  \n",
       "G_NAME  = 'PGC0000963'                                                          \n",
       "G_TYPE  = 'SABc    '                                                            \n",
       "G_CAT   = 'Intermediate Spirals'                                                \n",
       "FILTER_0= 'i       '                                                            \n",
       "FILTER_1= 'r       '                                                            \n",
       "FILTER_2= 'u       '                                                            \n",
       "G_TYPE_8= 'Spiral Intermediate'                                                 \n",
       "CAT1    = 'Spirals/Irregular'                                                   \n",
       "CAT2    = 'Spirals/Irregulars'                                                  \n",
       "CAT3    = 'Intermediate Spirals'                                                \n",
       "CAT1BIS = 'Spirals/Irregular'                                                   \n",
       "CAT2BIS = 'Spirals/Barred Spirals'                                              \n",
       "CAT3BIS = 'Spirals '                                                            "
      ]
     },
     "execution_count": 6,
     "metadata": {},
     "output_type": "execute_result"
    }
   ],
   "source": [
    "first_fits_file = os.path.join(dataset_dir, fits_files[1])\n",
    "\n",
    "data = fits.open(first_fits_file)\n",
    "data[0].header"
   ]
  },
  {
   "cell_type": "code",
   "execution_count": 7,
   "metadata": {},
   "outputs": [
    {
     "name": "stdout",
     "output_type": "stream",
     "text": [
      "Spirals/Irregulars\n",
      "Spirals/Irregulars\n",
      "Spirals/Irregulars\n",
      "Barred Spirals\n",
      "Barred Spirals\n",
      "Spirals/Irregulars\n",
      "Spirals/Irregulars\n",
      "Lenticular\n",
      "Lenticular\n",
      "Spirals/Irregulars\n",
      "Spirals/Irregulars\n",
      "Spirals/Irregulars\n",
      "Spirals/Irregulars\n",
      "Barred Spirals\n",
      "Spirals/Irregulars\n",
      "Spirals/Irregulars\n",
      "Barred Spirals\n",
      "Barred Spirals\n",
      "Barred Spirals\n",
      "Barred Spirals\n",
      "Spirals/Irregulars\n",
      "Barred Spirals\n",
      "Barred Spirals\n",
      "Barred Spirals\n",
      "Lenticular\n",
      "Elliptical\n",
      "Barred Spirals\n",
      "Barred Spirals\n",
      "Spirals/Irregulars\n",
      "Lenticular\n",
      "Spirals/Irregulars\n",
      "Lenticular\n",
      "Barred Spirals\n",
      "Lenticular\n",
      "Lenticular\n",
      "Spirals/Irregulars\n",
      "Barred Spirals\n",
      "Spirals/Irregulars\n",
      "Lenticular\n",
      "Lenticular\n",
      "Elliptical\n",
      "Lenticular\n",
      "Spirals/Irregulars\n",
      "Spirals/Irregulars\n",
      "Barred Spirals\n",
      "Spirals/Irregulars\n",
      "Barred Spirals\n",
      "Spirals/Irregulars\n",
      "Spirals/Irregulars\n",
      "Spirals/Irregulars\n",
      "Barred Spirals\n",
      "Spirals/Irregulars\n",
      "Elliptical\n",
      "Spirals/Irregulars\n",
      "Lenticular\n",
      "Spirals/Irregulars\n",
      "Elliptical\n",
      "Barred Spirals\n",
      "Spirals/Irregulars\n",
      "Spirals/Irregulars\n",
      "Spirals/Irregulars\n",
      "Spirals/Irregulars\n",
      "Spirals/Irregulars\n",
      "Elliptical\n",
      "Elliptical\n",
      "Lenticular\n",
      "Spirals/Irregulars\n",
      "Spirals/Irregulars\n",
      "Elliptical\n",
      "Spirals/Irregulars\n",
      "Barred Spirals\n",
      "Elliptical\n",
      "Spirals/Irregulars\n",
      "Lenticular\n",
      "Elliptical\n",
      "Spirals/Irregulars\n",
      "Spirals/Irregulars\n",
      "Lenticular\n",
      "Spirals/Irregulars\n",
      "Elliptical\n",
      "Spirals/Irregulars\n",
      "Spirals/Irregulars\n",
      "Barred Spirals\n",
      "Barred Spirals\n",
      "Spirals/Irregulars\n",
      "Lenticular\n",
      "Spirals/Irregulars\n",
      "Spirals/Irregulars\n",
      "Barred Spirals\n",
      "Elliptical\n",
      "Spirals/Irregulars\n",
      "Spirals/Irregulars\n",
      "Barred Spirals\n",
      "Lenticular\n",
      "Spirals/Irregulars\n",
      "Spirals/Irregulars\n",
      "Spirals/Irregulars\n",
      "Lenticular\n",
      "Spirals/Irregulars\n",
      "Elliptical\n"
     ]
    }
   ],
   "source": [
    "for fits_file in fits_files[:100]:\n",
    "    file_path = os.path.join(dataset_dir, fits_file)\n",
    "    with fits.open(file_path) as hdul:\n",
    "        header = hdul[0].header\n",
    "        print(header.get(\"CAT2\", \"Unknown\"))"
   ]
  },
  {
   "cell_type": "code",
   "execution_count": 8,
   "metadata": {},
   "outputs": [
    {
     "name": "stdout",
     "output_type": "stream",
     "text": [
      "La taille de l'image est: (3, 171, 171)\n"
     ]
    }
   ],
   "source": [
    "# Ouvrir le fichier FITS\n",
    "with fits.open(first_fits_file) as hdul:\n",
    "    # Accéder aux dimensions de l'image\n",
    "    image_shape = hdul[0].data.shape\n",
    "    print(f\"La taille de l'image est: {image_shape}\")"
   ]
  },
  {
   "cell_type": "code",
   "execution_count": 1,
   "metadata": {},
   "outputs": [
    {
     "ename": "NameError",
     "evalue": "name 'fits_files' is not defined",
     "output_type": "error",
     "traceback": [
      "\u001b[1;31m---------------------------------------------------------------------------\u001b[0m",
      "\u001b[1;31mNameError\u001b[0m                                 Traceback (most recent call last)",
      "Cell \u001b[1;32mIn[1], line 7\u001b[0m\n\u001b[0;32m      4\u001b[0m images_per_category \u001b[38;5;241m=\u001b[39m {}\n\u001b[0;32m      6\u001b[0m \u001b[38;5;66;03m# Iterate over the FITS files to collect one image per category\u001b[39;00m\n\u001b[1;32m----> 7\u001b[0m \u001b[38;5;28;01mfor\u001b[39;00m fits_file \u001b[38;5;129;01min\u001b[39;00m \u001b[43mfits_files\u001b[49m:\n\u001b[0;32m      8\u001b[0m     file_path \u001b[38;5;241m=\u001b[39m os\u001b[38;5;241m.\u001b[39mpath\u001b[38;5;241m.\u001b[39mjoin(dataset_dir, fits_file)\n\u001b[0;32m      9\u001b[0m     \u001b[38;5;28;01mwith\u001b[39;00m fits\u001b[38;5;241m.\u001b[39mopen(file_path) \u001b[38;5;28;01mas\u001b[39;00m hdul:\n",
      "\u001b[1;31mNameError\u001b[0m: name 'fits_files' is not defined"
     ]
    }
   ],
   "source": [
    "import matplotlib.pyplot as plt\n",
    "\n",
    "# Create a dictionary to store one image per category\n",
    "images_per_category = {}\n",
    "\n",
    "# Iterate over the FITS files to collect one image per category\n",
    "for fits_file in fits_files:\n",
    "    file_path = os.path.join(dataset_dir, fits_file)\n",
    "    with fits.open(file_path) as hdul:\n",
    "        header = hdul[0].header\n",
    "        category = header.get(\"CAT3bis\", \"Unknown\")\n",
    "        \n",
    "        if category not in images_per_category:\n",
    "            images_per_category[category] = hdul[0].data\n",
    "\n",
    "# Plot the images\n",
    "fig, axes = plt.subplots(1, len(images_per_category), figsize=(15, 5))\n",
    "\n",
    "for ax, (category, image) in zip(axes, images_per_category.items()):\n",
    "    ax.imshow(image, cmap='gray')\n",
    "    ax.set_title(category)\n",
    "    ax.axis('off')\n",
    "\n",
    "plt.tight_layout()\n",
    "plt.show()"
   ]
  }
 ],
 "metadata": {
  "kernelspec": {
   "display_name": ".venv",
   "language": "python",
   "name": "python3"
  },
  "language_info": {
   "codemirror_mode": {
    "name": "ipython",
    "version": 3
   },
   "file_extension": ".py",
   "mimetype": "text/x-python",
   "name": "python",
   "nbconvert_exporter": "python",
   "pygments_lexer": "ipython3",
   "version": "3.11.4"
  }
 },
 "nbformat": 4,
 "nbformat_minor": 2
}

{
 "cells": [
  {
   "cell_type": "code",
   "execution_count": 1,
   "metadata": {},
   "outputs": [],
   "source": [
    "import os\n",
    "from ipynb.fs.full.find_contours_Youssef import preprocessing"
   ]
  },
  {
   "cell_type": "code",
   "execution_count": 2,
   "metadata": {},
   "outputs": [],
   "source": [
    "# Example of accessing files in a directory\n",
    "directory_path = '../test'\n",
    "fileList=[]\n",
    "for filename in os.listdir(directory_path):\n",
    "    fileList.append(os.path.join(directory_path, filename))\n"
   ]
  },
  {
   "cell_type": "code",
   "execution_count": 3,
   "metadata": {},
   "outputs": [],
   "source": [
    "#get the image names \n",
    "name_images=[]\n",
    "folder_path = '../test/img-png' #change according to path\n",
    "for image in os.listdir(folder_path):\n",
    "    name_images.append(image.split('.')[0])\n",
    "\n",
    "    "
   ]
  },
  {
   "cell_type": "code",
   "execution_count": 5,
   "metadata": {},
   "outputs": [],
   "source": [
    "sourcefile = '../test/'\n",
    "fileList=['img-g','img-i','img-r']\n",
    "suffix=['_g.fits','_i.fits','_r.fits']\n",
    "resultPath='../test/results'\n",
    "for i in range(len(fileList)):\n",
    "    fileList[i] = os.path.join(sourcefile, fileList[i])\n",
    "\n",
    "for image in name_images:\n",
    "    listimagesPaths=[]\n",
    "    for i in range(len(fileList)):\n",
    "        listimagesPaths.append(os.path.join(fileList[i],image+suffix[i]))\n",
    "   \n",
    "    preprocessing(image,listimagesPaths,resultPath)"
   ]
  }
 ],
 "metadata": {
  "kernelspec": {
   "display_name": ".venv",
   "language": "python",
   "name": "python3"
  },
  "language_info": {
   "codemirror_mode": {
    "name": "ipython",
    "version": 3
   },
   "file_extension": ".py",
   "mimetype": "text/x-python",
   "name": "python",
   "nbconvert_exporter": "python",
   "pygments_lexer": "ipython3",
   "version": "3.12.7"
  }
 },
 "nbformat": 4,
 "nbformat_minor": 2
}
